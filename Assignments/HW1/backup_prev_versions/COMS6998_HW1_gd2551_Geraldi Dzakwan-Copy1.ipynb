{
 "cells": [
  {
   "cell_type": "markdown",
   "metadata": {},
   "source": [
    "## Problem 1 - Linear Separability"
   ]
  },
  {
   "cell_type": "markdown",
   "metadata": {},
   "source": [
    "### Answer 1.1"
   ]
  },
  {
   "cell_type": "code",
   "execution_count": 1,
   "metadata": {},
   "outputs": [],
   "source": [
    "import numpy as np\n",
    "import matplotlib.pyplot as plt\n",
    "\n",
    "plt.style.use('seaborn-whitegrid')\n",
    "\n",
    "%matplotlib inline"
   ]
  },
  {
   "cell_type": "code",
   "execution_count": 2,
   "metadata": {},
   "outputs": [
    {
     "data": {
      "image/png": "[encoded data removed]",
      "text/plain": [
       "<Figure size 432x288 with 1 Axes>"
      ]
     },
     "metadata": {
      "needs_background": "light"
     },
     "output_type": "display_data"
    }
   ],
   "source": [
    "x_class_1 = np.array([-1, 1, -3, 4])\n",
    "y_class_1 = np.array([-1, 1, -3, 4])\n",
    "\n",
    "x_class_2 = np.array([-1, 1, -5, 4])\n",
    "y_class_2 = np.array([1, -1, 2, -8])\n",
    "\n",
    "plt.plot(x_class_1, y_class_1, 'o', color='green', label='Class 1')\n",
    "ax = plt.gca()\n",
    "ax.set(xlabel = 'x1', ylabel = 'x2')\n",
    "\n",
    "plt.plot(x_class_2, y_class_2, 'o', color='blue', label='Class 2')\n",
    "ax = plt.gca()\n",
    "ax.set(xlabel = 'x1', ylabel = 'x2')\n",
    "\n",
    "plt.title('2D Scatter Plot for points (x1, x2) in Class 1 (Green) and Class 2 (Blue)')\n",
    "plt.legend()\n",
    "plt.show()"
   ]
  },
  {
   "cell_type": "markdown",
   "metadata": {},
   "source": [
    "Let the first set of points belongs to Class 1 and the other set belongs to Class 2.\n",
    "\n",
    "Green points denote Class 1 while Blue Points denote Class 2. $x_1$ is the horizontal dimension while $x_2$ is the vertical one.\n",
    "\n",
    "We can see from the plot above that the dataset $\\text{IS NOT LINEARLY SEPARABLE}$ using any linear function/classifier, given only two features $ x_1$ and $x_2$ (without further transformation into a higher space). \n"
   ]
  },
  {
   "cell_type": "markdown",
   "metadata": {},
   "source": [
    "### Answer 1.2"
   ]
  },
  {
   "cell_type": "markdown",
   "metadata": {},
   "source": [
    "Looking at the points from Class 1 and Class 2, we could see that:\n",
    "1. $x_1$ and $x_2$ in Class 1 are of the same sign\n",
    "2. $x_1$ and $x_2$ in Class 2 are of the opposite sign\n",
    "\n",
    "Thus, we could propose some $z$ such as: $${z = x_1 * x_2}$$\n",
    "\n",
    "This is linearly separable because Class 1 will all have positive values of $z$ while Class 2 will all have negative values of $z$."
   ]
  },
  {
   "cell_type": "markdown",
   "metadata": {},
   "source": [
    "### Answer 1.3"
   ]
  },
  {
   "cell_type": "markdown",
   "metadata": {},
   "source": [
    "Suppose we have a 1D plane which plots $z$ for Class 1 and Class 2. Green lines denote Class 1 while Blue Points denote Class 2.\n",
    "\n",
    "The separating hyperplane (or point, because this is 1D) is simply $z=c$, where $c$ is any constant satisfying $-1 < c < 1$. I pick $c=0$, which is denoted by the thick and short red line in the plot."
   ]
  },
  {
   "cell_type": "code",
   "execution_count": 3,
   "metadata": {},
   "outputs": [
    {
     "data": {
      "image/png": "[encoded data removed]",
      "text/plain": [
       "<Figure size 432x288 with 1 Axes>"
      ]
     },
     "metadata": {
      "needs_background": "light"
     },
     "output_type": "display_data"
    }
   ],
   "source": [
    "z_class_1 = np.multiply(x_class_1, y_class_1)\n",
    "z_class_2 = np.multiply(x_class_2, y_class_2)\n",
    "\n",
    "z_class_1 = np.repeat(z_class_1, 2)\n",
    "z_class_2 = np.repeat(z_class_2, 2)\n",
    "\n",
    "plt.figure()\n",
    "plt.hlines(1, -35, 20)  \n",
    "\n",
    "plt.eventplot(z_class_1, orientation='horizontal', colors='green', linelengths=0.1, linewidths=2.5, label='Class 1')\n",
    "plt.eventplot(z_class_2, orientation='horizontal', colors='blue', linelengths=0.1, linewidths=2.5, label='Class 2')\n",
    "\n",
    "plt.eventplot([-35, 20], orientation='horizontal', colors='black', linelengths=1, linewidths=1)\n",
    "plt.eventplot([0], orientation='horizontal', colors='red', linelengths=0.2, linewidths=5, label='Separating Hyperplane')\n",
    "\n",
    "plt.axis('off')\n",
    "\n",
    "plt.title('1D Plot for points (z) in Class 1 (Green) and Class 2 (Blue)')\n",
    "plt.legend()\n",
    "plt.show()"
   ]
  },
  {
   "cell_type": "markdown",
   "metadata": {},
   "source": [
    "### Answer for Problem 1.4"
   ]
  },
  {
   "cell_type": "markdown",
   "metadata": {},
   "source": [
    "Because ..."
   ]
  },
  {
   "cell_type": "markdown",
   "metadata": {},
   "source": [
    "## Problem 2 - Bias Variance Tradeoff, Regularization"
   ]
  },
  {
   "cell_type": "markdown",
   "metadata": {},
   "source": [
    "### Answer 2.1"
   ]
  },
  {
   "cell_type": "markdown",
   "metadata": {},
   "source": [
    "$$ E[MSE] = E[\\frac{1}{t} \\sum_{i=1}^t(f(x_i) + \\epsilon - g(x_i))^2] $$\n",
    "\n",
    "Introduce terms $E[g(x_i]$ that will cancel each other:\n",
    "$$ E[MSE] = E[\\frac{1}{t} \\sum_{i=1}^t (f(x_i) + \\epsilon - g(x_i) + E[g(x_i)] - E[g(x_i)])^2] $$\n",
    "\n",
    "Using linearity in expectation:\n",
    "$$ E[MSE] = E[\\frac{1}{t} \\sum_{i=1}^t (f(x_i)-E[g(x_i)])^2 + \\frac{1}{t} \\sum_{i=1}^t E[\\epsilon^2] + \\frac{1}{t} \\sum_{i=1}^t E[(E[g(x_i)] - g(x_i))^2] + \\frac{2}{t} \\sum_{i=1}^t E[\\epsilon(f(x_i) - E[g(x_i)])] + \\frac{2}{t} \\sum_{i=1}^t E[\\epsilon(E[g(x_i)] - g(x_i))] + \\frac{2}{t} \\sum_{i=1}^t E[((f(x_i) - E[g(x_i))(E[g(x_i)] - g(x_i))]] $$\n",
    "\n",
    "Notice that $E[g(x_i)] = g(x_i)$, so that lefts us with:\n",
    "$$ E[MSE] = E[\\frac{1}{t} \\sum_{i=1}^t (f(x_i)-E[g(x_i)])^2 + \\frac{1}{t} \\sum_{i=1}^t E[\\epsilon^2] + \\frac{1}{t} \\sum_{i=1}^t E[(E[g(x_i)] - g(x_i))^2]$$\n",
    "\n",
    "Again, using linearity in expectation:\n",
    "$$ E[MSE] = E[\\frac{1}{t} \\sum_{i=1}^t (f(x_i)-E[g(x_i)])^2] + E[\\frac{1}{t} \\sum_{i=1}^t E[\\epsilon^2]] + E[\\frac{1}{t} \\sum_{i=1}^t E[(E[g(x_i)] - g(x_i))^2]$$\n",
    "\n",
    "$$ E[MSE] = \\frac{1}{t} \\sum_{i=1}^t (f(x_i)-E[g(x_i)])^2 + \\frac{1}{t} \\sum_{i=1}^t E[\\epsilon^2] + \\frac{1}{t} \\sum_{i=1}^t E[(E[g(x_i)] - g(x_i))^2$$\n",
    "\n",
    "$$ E[MSE] = \\frac{1}{t} \\sum_{i=1}^t (f(x_i)-E[g(x_i)])^2 + \\frac{1}{t} \\sum_{i=1}^t E[(E[g(x_i)] - g(x_i))^2] + \\frac{1}{t}(t) E[\\epsilon^2]$$\n",
    "\n",
    "$$ E[MSE] = \\frac{1}{t} \\sum_{i=1}^t (f(x_i)-E[g(x_i)])^2 + \\frac{1}{t} \\sum_{i=1}^t E[(E[g(x_i)] - g(x_i))^2] + E[\\epsilon^2]$$\n",
    "\n",
    "Finally:\n",
    "$$ E[MSE] = Bias[g(x)]^2 + Var[g(x)] + Noise $$\n",
    "\n",
    "where:\n",
    "1. $$ Bias[g(x)]^2 = \\frac{1}{t} \\sum_{i=1}^t (f(x_i)-E[g(x_i)])^2 $$\n",
    "2. $$ Var[g(x)] = \\frac{1}{t} \\sum_{i=1}^t E[(E[g(x_i)] - g(x_i))^2 $$\n",
    "3. $$ Noise = E[\\epsilon^2] $$"
   ]
  },
  {
   "cell_type": "markdown",
   "metadata": {},
   "source": [
    "### Answer 2.2"
   ]
  },
  {
   "cell_type": "markdown",
   "metadata": {},
   "source": [
    "The black line plot depicts $f(x)$ while the red dots (20 in total) are the samples drawn from $y(x)$. "
   ]
  },
  {
   "cell_type": "code",
   "execution_count": 4,
   "metadata": {},
   "outputs": [
    {
     "data": {
      "image/png": "[encoded data removed]",
      "text/plain": [
       "<Figure size 432x288 with 1 Axes>"
      ]
     },
     "metadata": {
      "needs_background": "light"
     },
     "output_type": "display_data"
    }
   ],
   "source": [
    "def f_x(x):\n",
    "    return x + np.sin((3/2)*x)\n",
    "\n",
    "x_smooth = np.arange(0, 10, 0.01)\n",
    "f_x_plot_dots = f_x(x_smooth)\n",
    "\n",
    "def generate_sample_from_y(x_rand):    \n",
    "    return f_x(x_rand) + np.random.normal(0, 0.3, len(x_rand))\n",
    "    \n",
    "x_rand = np.random.uniform(0, 10, 20)\n",
    "y_x_plot_dots = generate_sample_from_y(x_rand)\n",
    "\n",
    "\n",
    "plt.plot(x_smooth, f_x_plot_dots, 'o', color='black', markersize=2.5, label='f(x)')\n",
    "plt.plot(x_rand, y_x_plot_dots, 'o', color='red', markersize=7.5, label='y(x)')\n",
    "\n",
    "plt.title('Smooth Line Plot for f(x): Black Line and Scatter Plot for y(x): Red Dots using 20 random points')\n",
    "plt.legend()\n",
    "plt.show()"
   ]
  },
  {
   "cell_type": "markdown",
   "metadata": {},
   "source": [
    "### Answer 2.3"
   ]
  },
  {
   "cell_type": "code",
   "execution_count": 5,
   "metadata": {},
   "outputs": [
    {
     "data": {
      "image/png": "[encoded data removed]",
      "text/plain": [
       "<Figure size 432x288 with 1 Axes>"
      ]
     },
     "metadata": {
      "needs_background": "light"
     },
     "output_type": "display_data"
    },
    {
     "data": {
      "image/png": "[encoded data removed]",
      "text/plain": [
       "<Figure size 432x288 with 1 Axes>"
      ]
     },
     "metadata": {
      "needs_background": "light"
     },
     "output_type": "display_data"
    }
   ],
   "source": [
    "from sklearn.preprocessing import PolynomialFeatures\n",
    "from sklearn.pipeline import make_pipeline\n",
    "from sklearn.linear_model import LinearRegression\n",
    "\n",
    "reshape_x_smooth = x_smooth.reshape(-1, 1)\n",
    "\n",
    "g_1 = make_pipeline(PolynomialFeatures(1), LinearRegression())\n",
    "g_1.fit(reshape_x_smooth, f_x(x_smooth).reshape(-1, 1))\n",
    "\n",
    "g_3 = make_pipeline(PolynomialFeatures(3), LinearRegression())\n",
    "g_3.fit(reshape_x_smooth, f_x(x_smooth).reshape(-1, 1))\n",
    "\n",
    "g_10 = make_pipeline(PolynomialFeatures(10), LinearRegression())\n",
    "g_10.fit(reshape_x_smooth, f_x(x_smooth).reshape(-1, 1))\n",
    "\n",
    "plt.plot(x_smooth, f_x_plot_dots, 'o', color='black', markersize=2.5, label='f(x)')\n",
    "plt.plot(x_smooth, g_1.predict(reshape_x_smooth), 'o', color='blue', markersize=1, label='g1(x)')\n",
    "plt.plot(x_smooth, g_3.predict(reshape_x_smooth), 'o', color='green', markersize=1, label='g3(x)')\n",
    "plt.plot(x_smooth, g_10.predict(reshape_x_smooth), 'o', color='red', markersize=1, label='g10(x)')\n",
    "\n",
    "plt.title('Plot A: Blue depicts g1(x), Green depicts g3(x), Red depicts g10(x) and Black depicts f(x)')\n",
    "plt.legend()\n",
    "plt.show()\n",
    "\n",
    "plt.plot(x_smooth, f_x_plot_dots, 'o', color='black', markersize=2.5, label='f(x)')\n",
    "plt.plot(x_smooth, g_1.predict(reshape_x_smooth), 'o', color='blue', markersize=1, label='g1(x)')\n",
    "plt.plot(x_smooth, g_3.predict(reshape_x_smooth), 'o', color='green', markersize=1, label='g3(x)')\n",
    "\n",
    "plt.title('Plot B: Blue depicts g1(x), Green depicts g3(x) and Black depicts f(x)')\n",
    "plt.legend()\n",
    "plt.show()"
   ]
  },
  {
   "cell_type": "markdown",
   "metadata": {},
   "source": [
    "In the first plot, Plot A, we can see that $g_1(x)$ (blue line) and $g_2(x)$ (green line) are underfitting while $g_{10}(x)$ (red line) is overfitting. $f(x)$, which is the black line, is fully overlayed by $g_{10}(x)$, the red line.\n",
    "\n",
    "To make it clearer, I provide Plot B, in which I get ride of $g_10(x)$, i.e. the red line. We can compare that $g_10(x)$ resembles $f(x)$ quiet a lot, indicating overfitting."
   ]
  },
  {
   "cell_type": "markdown",
   "metadata": {},
   "source": [
    "### Answer 2.4"
   ]
  },
  {
   "cell_type": "code",
   "execution_count": 6,
   "metadata": {},
   "outputs": [],
   "source": [
    "# Generate fixed 50 x_rand(s)\n",
    "x_rand = np.random.uniform(0, 10, 50)\n",
    "\n",
    "# Divide into x_train and x_test\n",
    "x_train = x_rand[0:40]\n",
    "x_test = x_rand[40:50]\n",
    "\n",
    "# \n",
    "y_train = []\n",
    "y_test = []\n",
    "\n",
    "# Generate y_train and y_test\n",
    "\n",
    "for i in range(0, 100):\n",
    "    y_x_plot_dots = generate_sample_from_y(x_rand)\n",
    "    y_train.append(y_x_plot_dots[0:40])\n",
    "    y_test.append(y_x_plot_dots[40:50])\n",
    "\n",
    "# for degree in range(1, 16):\n",
    "#     g = make_pipeline(PolynomialFeatures(degree), LinearRegression())\n",
    "#     g.fit(x_train, y_train)"
   ]
  },
  {
   "cell_type": "markdown",
   "metadata": {},
   "source": [
    "### Answer 2.5"
   ]
  },
  {
   "cell_type": "code",
   "execution_count": null,
   "metadata": {},
   "outputs": [],
   "source": []
  },
  {
   "cell_type": "markdown",
   "metadata": {},
   "source": [
    "## Problem 3"
   ]
  },
  {
   "cell_type": "markdown",
   "metadata": {},
   "source": [
    "### Answer 3.1"
   ]
  },
  {
   "cell_type": "markdown",
   "metadata": {},
   "source": [
    "Two datasets picked:\n",
    "    \n",
    "1. Tic-Tac-Toe (https://www.openml.org/d/50)\n",
    "2. Iris (https://www.openml.org/d/61)"
   ]
  },
  {
   "cell_type": "code",
   "execution_count": 7,
   "metadata": {},
   "outputs": [
    {
     "data": {
      "text/html": [
       "<div>\n",
       "<style scoped>\n",
       "    .dataframe tbody tr th:only-of-type {\n",
       "        vertical-align: middle;\n",
       "    }\n",
       "\n",
       "    .dataframe tbody tr th {\n",
       "        vertical-align: top;\n",
       "    }\n",
       "\n",
       "    .dataframe thead th {\n",
       "        text-align: right;\n",
       "    }\n",
       "</style>\n",
       "<table border=\"1\" class=\"dataframe\">\n",
       "  <thead>\n",
       "    <tr style=\"text-align: right;\">\n",
       "      <th></th>\n",
       "      <th>top-left-square</th>\n",
       "      <th>top-middle-square</th>\n",
       "      <th>top-right-square</th>\n",
       "      <th>middle-left-square</th>\n",
       "      <th>middle-middle-square</th>\n",
       "      <th>middle-right-square</th>\n",
       "      <th>bottom-left-square</th>\n",
       "      <th>bottom-middle-square</th>\n",
       "      <th>bottom-right-square</th>\n",
       "      <th>Class</th>\n",
       "    </tr>\n",
       "  </thead>\n",
       "  <tbody>\n",
       "    <tr>\n",
       "      <th>0</th>\n",
       "      <td>x</td>\n",
       "      <td>x</td>\n",
       "      <td>x</td>\n",
       "      <td>x</td>\n",
       "      <td>o</td>\n",
       "      <td>o</td>\n",
       "      <td>x</td>\n",
       "      <td>o</td>\n",
       "      <td>o</td>\n",
       "      <td>positive</td>\n",
       "    </tr>\n",
       "    <tr>\n",
       "      <th>1</th>\n",
       "      <td>x</td>\n",
       "      <td>x</td>\n",
       "      <td>x</td>\n",
       "      <td>x</td>\n",
       "      <td>o</td>\n",
       "      <td>o</td>\n",
       "      <td>o</td>\n",
       "      <td>x</td>\n",
       "      <td>o</td>\n",
       "      <td>positive</td>\n",
       "    </tr>\n",
       "    <tr>\n",
       "      <th>2</th>\n",
       "      <td>x</td>\n",
       "      <td>x</td>\n",
       "      <td>x</td>\n",
       "      <td>x</td>\n",
       "      <td>o</td>\n",
       "      <td>o</td>\n",
       "      <td>o</td>\n",
       "      <td>o</td>\n",
       "      <td>x</td>\n",
       "      <td>positive</td>\n",
       "    </tr>\n",
       "    <tr>\n",
       "      <th>3</th>\n",
       "      <td>x</td>\n",
       "      <td>x</td>\n",
       "      <td>x</td>\n",
       "      <td>x</td>\n",
       "      <td>o</td>\n",
       "      <td>o</td>\n",
       "      <td>o</td>\n",
       "      <td>b</td>\n",
       "      <td>b</td>\n",
       "      <td>positive</td>\n",
       "    </tr>\n",
       "    <tr>\n",
       "      <th>4</th>\n",
       "      <td>x</td>\n",
       "      <td>x</td>\n",
       "      <td>x</td>\n",
       "      <td>x</td>\n",
       "      <td>o</td>\n",
       "      <td>o</td>\n",
       "      <td>b</td>\n",
       "      <td>o</td>\n",
       "      <td>b</td>\n",
       "      <td>positive</td>\n",
       "    </tr>\n",
       "  </tbody>\n",
       "</table>\n",
       "</div>"
      ],
      "text/plain": [
       "  top-left-square top-middle-square top-right-square middle-left-square  \\\n",
       "0               x                 x                x                  x   \n",
       "1               x                 x                x                  x   \n",
       "2               x                 x                x                  x   \n",
       "3               x                 x                x                  x   \n",
       "4               x                 x                x                  x   \n",
       "\n",
       "  middle-middle-square middle-right-square bottom-left-square  \\\n",
       "0                    o                   o                  x   \n",
       "1                    o                   o                  o   \n",
       "2                    o                   o                  o   \n",
       "3                    o                   o                  o   \n",
       "4                    o                   o                  b   \n",
       "\n",
       "  bottom-middle-square bottom-right-square     Class  \n",
       "0                    o                   o  positive  \n",
       "1                    x                   o  positive  \n",
       "2                    o                   x  positive  \n",
       "3                    b                   b  positive  \n",
       "4                    o                   b  positive  "
      ]
     },
     "execution_count": 7,
     "metadata": {},
     "output_type": "execute_result"
    }
   ],
   "source": [
    "import numpy as np\n",
    "import pandas as pd\n",
    "\n",
    "t_df = pd.read_csv('data/tic-tac-toe.csv')\n",
    "t_df.head()"
   ]
  },
  {
   "cell_type": "code",
   "execution_count": 8,
   "metadata": {},
   "outputs": [
    {
     "data": {
      "text/html": [
       "<div>\n",
       "<style scoped>\n",
       "    .dataframe tbody tr th:only-of-type {\n",
       "        vertical-align: middle;\n",
       "    }\n",
       "\n",
       "    .dataframe tbody tr th {\n",
       "        vertical-align: top;\n",
       "    }\n",
       "\n",
       "    .dataframe thead th {\n",
       "        text-align: right;\n",
       "    }\n",
       "</style>\n",
       "<table border=\"1\" class=\"dataframe\">\n",
       "  <thead>\n",
       "    <tr style=\"text-align: right;\">\n",
       "      <th></th>\n",
       "      <th>sepallength</th>\n",
       "      <th>sepalwidth</th>\n",
       "      <th>petallength</th>\n",
       "      <th>petalwidth</th>\n",
       "      <th>class</th>\n",
       "    </tr>\n",
       "  </thead>\n",
       "  <tbody>\n",
       "    <tr>\n",
       "      <th>0</th>\n",
       "      <td>5.1</td>\n",
       "      <td>3.5</td>\n",
       "      <td>1.4</td>\n",
       "      <td>0.2</td>\n",
       "      <td>Iris-setosa</td>\n",
       "    </tr>\n",
       "    <tr>\n",
       "      <th>1</th>\n",
       "      <td>4.9</td>\n",
       "      <td>3.0</td>\n",
       "      <td>1.4</td>\n",
       "      <td>0.2</td>\n",
       "      <td>Iris-setosa</td>\n",
       "    </tr>\n",
       "    <tr>\n",
       "      <th>2</th>\n",
       "      <td>4.7</td>\n",
       "      <td>3.2</td>\n",
       "      <td>1.3</td>\n",
       "      <td>0.2</td>\n",
       "      <td>Iris-setosa</td>\n",
       "    </tr>\n",
       "    <tr>\n",
       "      <th>3</th>\n",
       "      <td>4.6</td>\n",
       "      <td>3.1</td>\n",
       "      <td>1.5</td>\n",
       "      <td>0.2</td>\n",
       "      <td>Iris-setosa</td>\n",
       "    </tr>\n",
       "    <tr>\n",
       "      <th>4</th>\n",
       "      <td>5.0</td>\n",
       "      <td>3.6</td>\n",
       "      <td>1.4</td>\n",
       "      <td>0.2</td>\n",
       "      <td>Iris-setosa</td>\n",
       "    </tr>\n",
       "  </tbody>\n",
       "</table>\n",
       "</div>"
      ],
      "text/plain": [
       "   sepallength  sepalwidth  petallength  petalwidth        class\n",
       "0          5.1         3.5          1.4         0.2  Iris-setosa\n",
       "1          4.9         3.0          1.4         0.2  Iris-setosa\n",
       "2          4.7         3.2          1.3         0.2  Iris-setosa\n",
       "3          4.6         3.1          1.5         0.2  Iris-setosa\n",
       "4          5.0         3.6          1.4         0.2  Iris-setosa"
      ]
     },
     "execution_count": 8,
     "metadata": {},
     "output_type": "execute_result"
    }
   ],
   "source": [
    "i_df = pd.read_csv('data/iris.csv')\n",
    "i_df.head()"
   ]
  },
  {
   "cell_type": "markdown",
   "metadata": {},
   "source": [
    "#### Function to Summarize Attributes from a Dataset"
   ]
  },
  {
   "cell_type": "code",
   "execution_count": 9,
   "metadata": {},
   "outputs": [],
   "source": [
    "def get_attribute_summary(df, class_column):\n",
    "    df_info = {}\n",
    "\n",
    "    df_info['num_features'] = len(df.columns) - 1 # excluding label column\n",
    "    df_info['num_instances'] = len(df)\n",
    "    df_info['num_classes'] = len(np.unique(df[class_column]))\n",
    "\n",
    "    df_info['num_numerical_features'] = 0\n",
    "    df_info['num_categorical_features'] = 0\n",
    "    \n",
    "    df_info['categorical_indexes'] = []\n",
    "\n",
    "    sample_data = df.drop(columns=[class_column]).iloc[0]\n",
    "\n",
    "    idx = 0\n",
    "    for val in sample_data:\n",
    "        try:\n",
    "            float_form = float(val)\n",
    "\n",
    "            # If succeeds then it is a numerical object (int can also be converted to float)\n",
    "            df_info['num_numerical_features'] = df_info['num_numerical_features'] + 1\n",
    "        except:\n",
    "            # Otherwise, it is a categorical feature\n",
    "            df_info['num_categorical_features'] = df_info['num_categorical_features'] + 1\n",
    "            df_info['categorical_indexes'].append(idx)\n",
    "            \n",
    "        idx = idx + 1\n",
    "\n",
    "    # Some sanity check\n",
    "    assert df_info['num_numerical_features'] + df_info['num_categorical_features'] == df_info['num_features']\n",
    "\n",
    "    print('Summary of Speed Dating dataset attributes: ')\n",
    "    print('Number of features: {}'.format(df_info['num_features']))\n",
    "    print('Number of instances: {}'.format(df_info['num_instances']))\n",
    "    print('Number of classes: {}'.format(df_info['num_classes']))\n",
    "    print('Number of numerical features: {}'.format(df_info['num_numerical_features']))\n",
    "    print('Number of categorical features: {}'.format(df_info['num_categorical_features']))\n",
    "    \n",
    "    return df_info"
   ]
  },
  {
   "cell_type": "markdown",
   "metadata": {},
   "source": [
    "#### Attribute Summary for Tic Tac Toe Dataset"
   ]
  },
  {
   "cell_type": "code",
   "execution_count": 10,
   "metadata": {},
   "outputs": [
    {
     "name": "stdout",
     "output_type": "stream",
     "text": [
      "Summary of Speed Dating dataset attributes: \n",
      "Number of features: 9\n",
      "Number of instances: 958\n",
      "Number of classes: 2\n",
      "Number of numerical features: 0\n",
      "Number of categorical features: 9\n"
     ]
    }
   ],
   "source": [
    "d1_classname = 'Class'  \n",
    "d1_info = get_attribute_summary(t_df, d1_classname)"
   ]
  },
  {
   "cell_type": "markdown",
   "metadata": {},
   "source": [
    "#### Attribute Summary for Iris Dataset"
   ]
  },
  {
   "cell_type": "code",
   "execution_count": 11,
   "metadata": {},
   "outputs": [
    {
     "name": "stdout",
     "output_type": "stream",
     "text": [
      "Summary of Speed Dating dataset attributes: \n",
      "Number of features: 4\n",
      "Number of instances: 150\n",
      "Number of classes: 3\n",
      "Number of numerical features: 4\n",
      "Number of categorical features: 0\n"
     ]
    }
   ],
   "source": [
    "d2_classname = 'class'\n",
    "d2_info = get_attribute_summary(i_df, d2_classname)"
   ]
  },
  {
   "cell_type": "markdown",
   "metadata": {},
   "source": [
    "### Answer 3.2"
   ]
  },
  {
   "cell_type": "markdown",
   "metadata": {},
   "source": [
    "#### Split Both Dataset into Train and Test"
   ]
  },
  {
   "cell_type": "code",
   "execution_count": 12,
   "metadata": {},
   "outputs": [],
   "source": [
    "from sklearn.model_selection import train_test_split\n",
    "\n",
    "t_X_train, t_X_test, t_y_train, t_y_test = train_test_split(t_df.drop(columns=[d1_classname]), t_df[d1_classname], test_size=0.2, random_state=28)\n",
    "i_X_train, i_X_test, i_y_train, i_y_test = train_test_split(i_df.drop(columns=[d2_classname]), i_df[d2_classname], test_size=0.2, random_state=28)\n"
   ]
  },
  {
   "cell_type": "markdown",
   "metadata": {},
   "source": [
    "#### Generate 10 Different Train Sets"
   ]
  },
  {
   "cell_type": "code",
   "execution_count": 13,
   "metadata": {},
   "outputs": [],
   "source": [
    "def generate_ten_subsamples(X_train, y_train):\n",
    "    X_train_sets = []\n",
    "    y_train_sets = []\n",
    "    \n",
    "    for i in range(1, 10):\n",
    "        frac = i * 10 / 100\n",
    "\n",
    "        # Use the same random state so that we get matching X_train and y_train\n",
    "        X_train_sets.append(X_train.sample(frac=frac, random_state=28))\n",
    "        y_train_sets.append(y_train.sample(frac=frac, random_state=28))\n",
    "        \n",
    "    return X_train_sets, y_train_sets\n",
    "\n",
    "t_X_train_sets, t_y_train_sets = generate_ten_subsamples(t_X_train, t_y_train)\n",
    "i_X_train_sets, i_y_train_sets = generate_ten_subsamples(i_X_train, i_y_train)"
   ]
  },
  {
   "cell_type": "markdown",
   "metadata": {},
   "source": [
    "#### Function to Convert Categorical Features into Numerical Ones "
   ]
  },
  {
   "cell_type": "code",
   "execution_count": 14,
   "metadata": {},
   "outputs": [],
   "source": [
    "from sklearn.preprocessing import OneHotEncoder\n",
    "from sklearn.compose import ColumnTransformer \n",
    "\n",
    "def convert_categorical(df, categorical_indexes):\n",
    "    columnTransformer = ColumnTransformer([('encoder', \n",
    "                                            OneHotEncoder(), \n",
    "                                            categorical_indexes)], \n",
    "                                            remainder='passthrough') \n",
    "\n",
    "    return np.array(columnTransformer.fit_transform(df), dtype = np.str) \n",
    "\n",
    "def convert_all_sets(X_train_sets, categorical_indexes):\n",
    "    new_X_train_sets = []\n",
    "    \n",
    "    for X_train_set in X_train_sets:\n",
    "        new_X_train_set = convert_categorical(X_train_set, categorical_indexes)\n",
    "        new_X_train_sets.append(new_X_train_set)\n",
    "        \n",
    "    return new_X_train_sets"
   ]
  },
  {
   "cell_type": "markdown",
   "metadata": {},
   "source": [
    "#### Convert Categorical Features in Tic Tac Toe and Iris Dataset (Both Train and Test)"
   ]
  },
  {
   "cell_type": "code",
   "execution_count": 15,
   "metadata": {},
   "outputs": [],
   "source": [
    "new_t_X_train_sets = convert_all_sets(t_X_train_sets, d1_info['categorical_indexes'])\n",
    "new_i_X_train_sets = convert_all_sets(i_X_train_sets, d2_info['categorical_indexes'])\n",
    "    \n",
    "new_t_X_test = convert_categorical(t_X_test, d1_info['categorical_indexes'])\n",
    "new_i_X_test = convert_categorical(i_X_test, d2_info['categorical_indexes'])"
   ]
  },
  {
   "cell_type": "markdown",
   "metadata": {},
   "source": [
    "#### Function to Train Dataset using Random Forests and Gradient Boosting"
   ]
  },
  {
   "cell_type": "code",
   "execution_count": 16,
   "metadata": {},
   "outputs": [],
   "source": [
    "from sklearn.ensemble import RandomForestClassifier, GradientBoostingClassifier\n",
    "from datetime import datetime, timedelta\n",
    "\n",
    "def run_train_scenario(dname, X_train_sets, y_train_sets):\n",
    "    rf = RandomForestClassifier(random_state=28)\n",
    "    gb = GradientBoostingClassifier(random_state=28)\n",
    "\n",
    "    i = 0\n",
    "    \n",
    "    rf_models = []\n",
    "    gb_models = []\n",
    "    \n",
    "    rf_training_times = []\n",
    "    gb_training_times = []\n",
    "    \n",
    "    for X_train, y_train in list(zip(X_train_sets, y_train_sets)):\n",
    "        print(X_train.shape)\n",
    "        start = datetime.now()\n",
    "        rf.fit(X_train, y_train)\n",
    "        rf_training_times.append((datetime.now() - start).total_seconds())\n",
    "        rf_models.append(rf)\n",
    "        \n",
    "        start = datetime.now()\n",
    "        gb.fit(X_train, y_train)\n",
    "        gb_training_times.append((datetime.now() - start).total_seconds())\n",
    "        gb_models.append(gb)\n",
    "        \n",
    "        i = i + 1\n",
    "        total_time_elapsed = rf_training_times[len(rf_training_times) - 1] + gb_training_times[len(gb_training_times) - 1]\n",
    "        print('Finished {} training for subsample {}, total time elapsed: {}'.format(dname, i, total_time_elapsed))\n",
    "        \n",
    "    return rf_models, gb_models, rf_training_times, gb_training_times"
   ]
  },
  {
   "cell_type": "markdown",
   "metadata": {},
   "source": [
    "#### Run Training with Tic Tac Toe Dataset"
   ]
  },
  {
   "cell_type": "code",
   "execution_count": 17,
   "metadata": {},
   "outputs": [
    {
     "name": "stdout",
     "output_type": "stream",
     "text": [
      "(77, 27)\n",
      "Finished Tic Tac Toe training for subsample 1, total time elapsed: 0.12577\n",
      "(153, 27)\n",
      "Finished Tic Tac Toe training for subsample 2, total time elapsed: 0.13419799999999998\n",
      "(230, 27)\n",
      "Finished Tic Tac Toe training for subsample 3, total time elapsed: 0.142542\n",
      "(306, 27)\n",
      "Finished Tic Tac Toe training for subsample 4, total time elapsed: 0.15852899999999998\n",
      "(383, 27)\n",
      "Finished Tic Tac Toe training for subsample 5, total time elapsed: 0.17960500000000001\n",
      "(460, 27)\n",
      "Finished Tic Tac Toe training for subsample 6, total time elapsed: 0.193762\n",
      "(536, 27)\n",
      "Finished Tic Tac Toe training for subsample 7, total time elapsed: 0.193132\n",
      "(613, 27)\n",
      "Finished Tic Tac Toe training for subsample 8, total time elapsed: 0.237589\n",
      "(689, 27)\n",
      "Finished Tic Tac Toe training for subsample 9, total time elapsed: 0.24873800000000001\n"
     ]
    }
   ],
   "source": [
    "t_rf_models, t_gb_models, t_rf_training_times, t_gb_training_times = run_train_scenario('Tic Tac Toe', new_t_X_train_sets, t_y_train_sets)"
   ]
  },
  {
   "cell_type": "markdown",
   "metadata": {},
   "source": [
    "#### Run Training with Iris Dataset"
   ]
  },
  {
   "cell_type": "code",
   "execution_count": 18,
   "metadata": {},
   "outputs": [
    {
     "name": "stdout",
     "output_type": "stream",
     "text": [
      "(12, 4)\n",
      "Finished Iris training for subsample 1, total time elapsed: 0.223244\n",
      "(24, 4)\n",
      "Finished Iris training for subsample 2, total time elapsed: 0.216267\n",
      "(36, 4)\n",
      "Finished Iris training for subsample 3, total time elapsed: 0.251532\n",
      "(48, 4)\n",
      "Finished Iris training for subsample 4, total time elapsed: 0.208386\n",
      "(60, 4)\n",
      "Finished Iris training for subsample 5, total time elapsed: 0.213184\n",
      "(72, 4)\n",
      "Finished Iris training for subsample 6, total time elapsed: 0.22422399999999998\n",
      "(84, 4)\n",
      "Finished Iris training for subsample 7, total time elapsed: 0.244925\n",
      "(96, 4)\n",
      "Finished Iris training for subsample 8, total time elapsed: 0.285883\n",
      "(108, 4)\n",
      "Finished Iris training for subsample 9, total time elapsed: 0.267225\n"
     ]
    }
   ],
   "source": [
    "i_rf_models, i_gb_models, i_rf_training_times, i_gb_training_times = run_train_scenario('Iris', new_i_X_train_sets, i_y_train_sets)"
   ]
  },
  {
   "cell_type": "markdown",
   "metadata": {},
   "source": [
    "#### Create function to Compute Accuracies on Test Set"
   ]
  },
  {
   "cell_type": "code",
   "execution_count": 19,
   "metadata": {},
   "outputs": [],
   "source": [
    "from sklearn.metrics import accuracy_score\n",
    "\n",
    "def calculate_test_accuracies(clf_list, X_test, y_test):\n",
    "    accuracies = []\n",
    "    \n",
    "    for clf in clf_list:\n",
    "        y_pred = clf.predict(X_test)\n",
    "        accuracies.append(accuracy_score(y_test, y_pred))\n",
    "        \n",
    "    return accuracies"
   ]
  },
  {
   "cell_type": "markdown",
   "metadata": {},
   "source": [
    "#### Compute Test Accuracies on Tic Tac Toe Dataset"
   ]
  },
  {
   "cell_type": "code",
   "execution_count": 21,
   "metadata": {},
   "outputs": [
    {
     "name": "stdout",
     "output_type": "stream",
     "text": [
      "[0.9739583333333334, 0.9739583333333334, 0.9739583333333334, 0.9739583333333334, 0.9739583333333334, 0.9739583333333334, 0.9739583333333334, 0.9739583333333334, 0.9739583333333334]\n",
      "[0.9895833333333334, 0.9895833333333334, 0.9895833333333334, 0.9895833333333334, 0.9895833333333334, 0.9895833333333334, 0.9895833333333334, 0.9895833333333334, 0.9895833333333334]\n"
     ]
    }
   ],
   "source": [
    "t_rf_accuracies = calculate_test_accuracies(t_rf_models, new_t_X_test, t_y_test)\n",
    "t_gb_accuracies = calculate_test_accuracies(t_gb_models, new_t_X_test, t_y_test)\n",
    "print(t_rf_accuracies)\n",
    "print(t_gb_accuracies)"
   ]
  },
  {
   "cell_type": "markdown",
   "metadata": {},
   "source": [
    "#### Compute Test Accuracy on Iris Dataset"
   ]
  },
  {
   "cell_type": "code",
   "execution_count": 22,
   "metadata": {},
   "outputs": [
    {
     "name": "stdout",
     "output_type": "stream",
     "text": [
      "[0.9333333333333333, 0.9333333333333333, 0.9333333333333333, 0.9333333333333333, 0.9333333333333333, 0.9333333333333333, 0.9333333333333333, 0.9333333333333333, 0.9333333333333333]\n",
      "[0.9333333333333333, 0.9333333333333333, 0.9333333333333333, 0.9333333333333333, 0.9333333333333333, 0.9333333333333333, 0.9333333333333333, 0.9333333333333333, 0.9333333333333333]\n"
     ]
    }
   ],
   "source": [
    "i_rf_accuracies = calculate_test_accuracies(i_rf_models, i_X_test, i_y_test)\n",
    "i_gb_accuracies = calculate_test_accuracies(i_gb_models, i_X_test, i_y_test)\n",
    "print(i_rf_accuracies)\n",
    "print(i_gb_accuracies)"
   ]
  },
  {
   "cell_type": "markdown",
   "metadata": {},
   "source": [
    "#### Plot Test Accuracies and Training Times for Tic Tac Toe Dataset"
   ]
  },
  {
   "cell_type": "markdown",
   "metadata": {},
   "source": [
    "#### Test Accuracies"
   ]
  },
  {
   "cell_type": "code",
   "execution_count": 23,
   "metadata": {},
   "outputs": [
    {
     "data": {
      "image/png": "[encoded data removed]",
      "text/plain": [
       "<Figure size 432x288 with 1 Axes>"
      ]
     },
     "metadata": {
      "needs_background": "light"
     },
     "output_type": "display_data"
    }
   ],
   "source": [
    "fig, ax = plt.subplots()\n",
    "\n",
    "x_plots = np.arange(10, 100, 10)\n",
    "y_plots = t_rf_accuracies\n",
    "ax.plot(x_plots, y_plots, color='red', label='Random Forests')\n",
    "\n",
    "x_plots = np.arange(10, 100, 10)\n",
    "y_plots = t_gb_accuracies\n",
    "ax.plot(x_plots, y_plots, color='green', label='Gradient Boosting')\n",
    "\n",
    "ax.set_xlabel('Training Data Size (in %)')     \n",
    "ax.set_ylabel('Accuracy')     \n",
    "\n",
    "ax.set_title('Test Accuracies Plot for Tic Tac Toe Dataset')\n",
    "ax.legend()\n",
    "ax.grid(True)\n",
    "\n",
    "plt.show()"
   ]
  },
  {
   "cell_type": "markdown",
   "metadata": {},
   "source": [
    "#### Training Times"
   ]
  },
  {
   "cell_type": "code",
   "execution_count": 24,
   "metadata": {},
   "outputs": [
    {
     "data": {
      "image/png": "[encoded data removed]",
      "text/plain": [
       "<Figure size 432x288 with 1 Axes>"
      ]
     },
     "metadata": {
      "needs_background": "light"
     },
     "output_type": "display_data"
    }
   ],
   "source": [
    "fig, ax = plt.subplots()\n",
    "\n",
    "x_plots = np.arange(10, 100, 10)\n",
    "y_plots = t_rf_training_times\n",
    "ax.plot(x_plots, y_plots, color='red', label='Random Forests')\n",
    "\n",
    "x_plots = np.arange(10, 100, 10)\n",
    "y_plots = t_gb_training_times\n",
    "ax.plot(x_plots, y_plots, color='green', label='Gradient Boosting')\n",
    "\n",
    "ax.set_xlabel('Training Data Size (in %)')     \n",
    "ax.set_ylabel('Training Time (in seconds)')     \n",
    "\n",
    "ax.set_title('Training Time Plot for Tic Tac Toe Dataset')\n",
    "ax.legend()\n",
    "ax.grid(True)\n",
    "\n",
    "plt.show()"
   ]
  },
  {
   "cell_type": "markdown",
   "metadata": {},
   "source": [
    "#### Plot Test Accuracies and Training Times for Iris Dataset"
   ]
  },
  {
   "cell_type": "markdown",
   "metadata": {},
   "source": [
    "#### Test Accuracies"
   ]
  },
  {
   "cell_type": "code",
   "execution_count": 25,
   "metadata": {},
   "outputs": [
    {
     "data": {
      "image/png": "[encoded data removed]",
      "text/plain": [
       "<Figure size 432x288 with 1 Axes>"
      ]
     },
     "metadata": {
      "needs_background": "light"
     },
     "output_type": "display_data"
    }
   ],
   "source": [
    "fig, ax = plt.subplots()\n",
    "\n",
    "x_plots = np.arange(10, 100, 10)\n",
    "y_plots = i_rf_training_times\n",
    "ax.plot(x_plots, y_plots, color='red', label='Random Forests')\n",
    "\n",
    "x_plots = np.arange(10, 100, 10)\n",
    "y_plots = i_gb_training_times\n",
    "ax.plot(x_plots, y_plots, color='green', label='Gradient Boosting')\n",
    "\n",
    "ax.set_xlabel('Training Data Size (in %)')     \n",
    "ax.set_ylabel('Training Time (in seconds)')     \n",
    "\n",
    "ax.set_title('Training Time Plot for Iris Dataset')\n",
    "ax.legend()\n",
    "ax.grid(True)\n",
    "\n",
    "plt.show()"
   ]
  },
  {
   "cell_type": "markdown",
   "metadata": {},
   "source": [
    "#### Training Times"
   ]
  },
  {
   "cell_type": "code",
   "execution_count": 26,
   "metadata": {},
   "outputs": [
    {
     "data": {
      "image/png": "[encoded data removed]",
      "text/plain": [
       "<Figure size 432x288 with 1 Axes>"
      ]
     },
     "metadata": {
      "needs_background": "light"
     },
     "output_type": "display_data"
    }
   ],
   "source": [
    "fig, ax = plt.subplots()\n",
    "\n",
    "x_plots = np.arange(10, 100, 10)\n",
    "y_plots = i_rf_accuracies\n",
    "ax.plot(x_plots, y_plots, color='red', label='Random Forests')\n",
    "\n",
    "x_plots = np.arange(10, 100, 10)\n",
    "y_plots = i_gb_accuracies\n",
    "ax.plot(x_plots, y_plots, color='green', label='Gradient Boosting')\n",
    "\n",
    "ax.set_xlabel('Training Data Size (in %)')     \n",
    "ax.set_ylabel('Accuracy')     \n",
    "\n",
    "ax.set_title('Test Accuracies Plot for Iris Dataset')\n",
    "ax.legend()\n",
    "ax.grid(True)\n",
    "\n",
    "plt.show()"
   ]
  },
  {
   "cell_type": "markdown",
   "metadata": {},
   "source": [
    "## Answer 4.3"
   ]
  },
  {
   "cell_type": "code",
   "execution_count": null,
   "metadata": {},
   "outputs": [],
   "source": []
  }
 ],
 "metadata": {
  "kernelspec": {
   "display_name": "Python 3",
   "language": "python",
   "name": "python3"
  },
  "language_info": {
   "codemirror_mode": {
    "name": "ipython",
    "version": 3
   },
   "file_extension": ".py",
   "mimetype": "text/x-python",
   "name": "python",
   "nbconvert_exporter": "python",
   "pygments_lexer": "ipython3",
   "version": "3.6.5"
  }
 },
 "nbformat": 4,
 "nbformat_minor": 2
}
